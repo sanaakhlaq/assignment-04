{
  "nbformat": 4,
  "nbformat_minor": 0,
  "metadata": {
    "colab": {
      "provenance": [],
      "authorship_tag": "ABX9TyO5b7FOz0qhdZfHA+i8YRdT",
      "include_colab_link": true
    },
    "kernelspec": {
      "name": "python3",
      "display_name": "Python 3"
    },
    "language_info": {
      "name": "python"
    }
  },
  "cells": [
    {
      "cell_type": "markdown",
      "metadata": {
        "id": "view-in-github",
        "colab_type": "text"
      },
      "source": [
        "<a href=\"https://colab.research.google.com/github/sanaakhlaq/assignment-04/blob/main/02_intermediateControl_Flow_for_Console_.ipynb\" target=\"_parent\"><img src=\"https://colab.research.google.com/assets/colab-badge.svg\" alt=\"Open In Colab\"/></a>"
      ]
    },
    {
      "cell_type": "code",
      "source": [
        "print(\"handout\")\n",
        "import random\n",
        "\n",
        "def high_low_game(rounds=5):\n",
        "    print(\"🎮 Welcome to the High-Low Game!\")\n",
        "    score = 0\n",
        "\n",
        "    for round_num in range(1, rounds + 1):\n",
        "        print(f\"\\n🔢 Round {round_num}\")\n",
        "\n",
        "        user_number = random.randint(1, 100)\n",
        "        computer_number = random.randint(1, 100)\n",
        "\n",
        "        print(f\"🧍 Your number is: {user_number}\")\n",
        "        guess = input(\"Do you think your number is (H)igher or (L)ower than the computer's? \").strip().upper()\n",
        "\n",
        "        if guess not in ['H', 'L']:\n",
        "            print(\"❌ Invalid input. Skipping round.\")\n",
        "            continue\n",
        "\n",
        "        print(\"🖥️ Computer's number is:\", computer_number)\n",
        "\n",
        "        if (guess == 'H' and user_number > computer_number) or (guess == 'L' and user_number < computer_number):\n",
        "            print(\"✅ Correct! You get a point.\")\n",
        "            score += 1\n",
        "        elif user_number == computer_number:\n",
        "            print(\"🤷 It's a tie! No points.\")\n",
        "        else:\n",
        "            print(\"❌ Wrong guess.\")\n",
        "\n",
        "    print(f\"\\n🏁 Game Over! Your total score is: {score}/{rounds}\")\n",
        "\n",
        "# Run the game\n",
        "high_low_game()\n"
      ],
      "metadata": {
        "colab": {
          "base_uri": "https://localhost:8080/"
        },
        "id": "v3-EEj4ZpYFh",
        "outputId": "29285e19-19e3-49b3-f77a-aedad8837249"
      },
      "execution_count": 1,
      "outputs": [
        {
          "output_type": "stream",
          "name": "stdout",
          "text": [
            "handout\n",
            "🎮 Welcome to the High-Low Game!\n",
            "\n",
            "🔢 Round 1\n",
            "🧍 Your number is: 97\n",
            "Do you think your number is (H)igher or (L)ower than the computer's? H\n",
            "🖥️ Computer's number is: 41\n",
            "✅ Correct! You get a point.\n",
            "\n",
            "🔢 Round 2\n",
            "🧍 Your number is: 71\n",
            "Do you think your number is (H)igher or (L)ower than the computer's? L\n",
            "🖥️ Computer's number is: 74\n",
            "✅ Correct! You get a point.\n",
            "\n",
            "🔢 Round 3\n",
            "🧍 Your number is: 95\n",
            "Do you think your number is (H)igher or (L)ower than the computer's? H\n",
            "🖥️ Computer's number is: 55\n",
            "✅ Correct! You get a point.\n",
            "\n",
            "🔢 Round 4\n",
            "🧍 Your number is: 16\n",
            "Do you think your number is (H)igher or (L)ower than the computer's? L\n",
            "🖥️ Computer's number is: 73\n",
            "✅ Correct! You get a point.\n",
            "\n",
            "🔢 Round 5\n",
            "🧍 Your number is: 68\n",
            "Do you think your number is (H)igher or (L)ower than the computer's? H\n",
            "🖥️ Computer's number is: 49\n",
            "✅ Correct! You get a point.\n",
            "\n",
            "🏁 Game Over! Your total score is: 5/5\n"
          ]
        }
      ]
    },
    {
      "cell_type": "code",
      "source": [
        "print(\" Planetary Weight Calculator\")\n",
        "def weight_on_planets():\n",
        "    print(\"🌌 Welcome to the Interplanetary Weight Calculator 🌍🚀\")\n",
        "\n",
        "    try:\n",
        "        earth_weight = float(input(\"Please enter your weight on Earth (in kg): \"))\n",
        "\n",
        "        # Gravity ratio of planets compared to Earth\n",
        "        gravity_factors = {\n",
        "            \"Mercury\": 0.38,\n",
        "            \"Venus\": 0.91,\n",
        "            \"Mars\": 0.378,\n",
        "            \"Jupiter\": 2.34,\n",
        "            \"Saturn\": 1.06,\n",
        "            \"Uranus\": 0.92,\n",
        "            \"Neptune\": 1.19,\n",
        "            \"Pluto\": 0.06\n",
        "        }\n",
        "\n",
        "        print(\"\\n🌠 Your weight on different planets:\")\n",
        "        for planet, factor in gravity_factors.items():\n",
        "            planet_weight = round(earth_weight * factor, 2)\n",
        "            print(f\"{planet}: {planet_weight} kg\")\n",
        "\n",
        "    except ValueError:\n",
        "        print(\"❌ Invalid input. Please enter a numeric weight.\")\n",
        "\n",
        "# Run the function\n",
        "weight_on_planets()\n"
      ],
      "metadata": {
        "colab": {
          "base_uri": "https://localhost:8080/"
        },
        "id": "V2_I4PnnqQRJ",
        "outputId": "43274e28-9d15-466f-fe35-b8c2fd931388"
      },
      "execution_count": 3,
      "outputs": [
        {
          "output_type": "stream",
          "name": "stdout",
          "text": [
            " Planetary Weight Calculator\n",
            "🌌 Welcome to the Interplanetary Weight Calculator 🌍🚀\n",
            "Please enter your weight on Earth (in kg): 10\n",
            "\n",
            "🌠 Your weight on different planets:\n",
            "Mercury: 3.8 kg\n",
            "Venus: 9.1 kg\n",
            "Mars: 3.78 kg\n",
            "Jupiter: 23.4 kg\n",
            "Saturn: 10.6 kg\n",
            "Uranus: 9.2 kg\n",
            "Neptune: 11.9 kg\n",
            "Pluto: 0.6 kg\n"
          ]
        }
      ]
    },
    {
      "cell_type": "code",
      "source": [
        "print(\"Lists and Dicts\")\n",
        "def main():\n",
        "    # Create a list called fruit_list\n",
        "    fruit_list = ['apple', 'banana', 'orange', 'grape', 'pineapple']\n",
        "\n",
        "    # Print the length of the list\n",
        "    print(\"Length of the list:\", len(fruit_list))\n",
        "\n",
        "    # Add 'mango' at the end of the list\n",
        "    fruit_list.append('mango')\n",
        "\n",
        "    # Print the updated list\n",
        "    print(\"Updated fruit list:\", fruit_list)\n",
        "\n",
        "# Run the function\n",
        "main()\n"
      ],
      "metadata": {
        "colab": {
          "base_uri": "https://localhost:8080/"
        },
        "id": "ZmelJR2XtbgZ",
        "outputId": "ac7a9084-aea8-4e15-9584-5ebde1bd0b1d"
      },
      "execution_count": 4,
      "outputs": [
        {
          "output_type": "stream",
          "name": "stdout",
          "text": [
            "Lists and Dicts\n",
            "Length of the list: 5\n",
            "Updated fruit list: ['apple', 'banana', 'orange', 'grape', 'pineapple', 'mango']\n"
          ]
        }
      ]
    },
    {
      "cell_type": "code",
      "source": [],
      "metadata": {
        "id": "aM6kBBLpsqBb"
      },
      "execution_count": null,
      "outputs": []
    }
  ]
}