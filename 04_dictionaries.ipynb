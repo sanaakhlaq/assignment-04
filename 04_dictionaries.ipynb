{
  "cells": [
    {
      "cell_type": "markdown",
      "metadata": {
        "id": "view-in-github",
        "colab_type": "text"
      },
      "source": [
        "<a href=\"https://colab.research.google.com/github/sanaakhlaq/assignment-04/blob/main/04_dictionaries.ipynb\" target=\"_parent\"><img src=\"https://colab.research.google.com/assets/colab-badge.svg\" alt=\"Open In Colab\"/></a>"
      ]
    },
    {
      "cell_type": "code",
      "execution_count": null,
      "metadata": {
        "colab": {
          "base_uri": "https://localhost:8080/"
        },
        "id": "r7yif_qkyia2",
        "outputId": "c0fa4dc5-9c1b-42d7-8379-c0733512f6e5"
      },
      "outputs": [
        {
          "name": "stdout",
          "output_type": "stream",
          "text": [
            "00_count_nums.\n",
            "Enter a number (or 'Exit' to quit): 4\n",
            "{4: 1}\n",
            "Enter a number (or 'Exit' to quit): 5\n",
            "{4: 1, 5: 1}\n",
            "Enter a number (or 'Exit' to quit): 6\n",
            "{4: 1, 5: 1, 6: 1}\n",
            "Enter a number (or 'Exit' to quit): 7\n",
            "{4: 1, 5: 1, 6: 1, 7: 1}\n",
            "Enter a number (or 'Exit' to quit): 8\n",
            "{4: 1, 5: 1, 6: 1, 7: 1, 8: 1}\n",
            "Enter a number (or 'Exit' to quit): 9\n",
            "{4: 1, 5: 1, 6: 1, 7: 1, 8: 1, 9: 1}\n",
            "Enter a number (or 'Exit' to quit): Exit\n",
            "Invalid Input. Please enter a number or 'Exit'. \n",
            "Number Counts\n",
            "4 appear 1 times\n",
            "5 appear 1 times\n",
            "6 appear 1 times\n",
            "7 appear 1 times\n",
            "8 appear 1 times\n",
            "9 appear 1 times\n"
          ]
        }
      ],
      "source": [
        "print(\"00_count_nums.\")\n",
        "def count_number():\n",
        "    count_dict = {}\n",
        "\n",
        "    while True:\n",
        "        num = input(\"Enter a number (or 'Exit' to quit): \")\n",
        "        if num.lower() == \"Exit\":\n",
        "            break\n",
        "        if num.isdigit():\n",
        "            num = int(num)\n",
        "            count_dict[num] = count_dict.get(num, 0) + 1\n",
        "            print(count_dict)\n",
        "        else:\n",
        "            print(\"Invalid Input. Please enter a number or 'Exit'. \")\n",
        "            return count_dict\n",
        "\n",
        "def display_counts(count_dict):\n",
        "    print(\"Number Counts\")\n",
        "    for key,value in count_dict.items():\n",
        "        print(f\"{key} appear {value} times\")\n",
        "\n",
        "if __name__ == \"__main__\":\n",
        "    count = count_number()\n",
        "    display_counts(count)\n"
      ]
    },
    {
      "cell_type": "code",
      "execution_count": null,
      "metadata": {
        "colab": {
          "base_uri": "https://localhost:8080/"
        },
        "id": "LZ_DqytABx7y",
        "outputId": "75e94119-9d7d-443e-8204-0ff3299075d5"
      },
      "outputs": [
        {
          "name": "stdout",
          "output_type": "stream",
          "text": [
            "01-phonebook\n",
            "\n",
            "___Phonebook Menu___\n",
            "1. Add Contact\n",
            "2. Search Contact\n",
            "3. Delete Contact\n",
            "4. Display Contact\n",
            "5. Exit\n",
            "Enter your choice (1-5): 1\n",
            "Enter contact name: sana\n",
            "Enter phone number: 012345678\n",
            "sana added to the phonebook.\n",
            "\n",
            "___Phonebook Menu___\n",
            "1. Add Contact\n",
            "2. Search Contact\n",
            "3. Delete Contact\n",
            "4. Display Contact\n",
            "5. Exit\n",
            "Enter your choice (1-5): 2\n",
            "Enter contact name to search: sana\n",
            "sana -> 012345678\n",
            "\n",
            "___Phonebook Menu___\n",
            "1. Add Contact\n",
            "2. Search Contact\n",
            "3. Delete Contact\n",
            "4. Display Contact\n",
            "5. Exit\n",
            "Enter your choice (1-5): 3\n",
            "Enter contact name to delete: sana\n",
            "sana deleted from the phonebook.\n",
            "\n",
            "___Phonebook Menu___\n",
            "1. Add Contact\n",
            "2. Search Contact\n",
            "3. Delete Contact\n",
            "4. Display Contact\n",
            "5. Exit\n",
            "Enter your choice (1-5): 4\n",
            "Phonebook is empty.\n",
            "\n",
            "___Phonebook Menu___\n",
            "1. Add Contact\n",
            "2. Search Contact\n",
            "3. Delete Contact\n",
            "4. Display Contact\n",
            "5. Exit\n",
            "Enter your choice (1-5): 5\n",
            "Exiting Phonebook, Byee________\n"
          ]
        }
      ],
      "source": [
        "print(\"01-phonebook\")\n",
        "def add_contact(phonebook):\n",
        "    name = input(\"Enter contact name: \")\n",
        "    if name in phonebook:\n",
        "        print(f\"{name} already exists in the phonebook.\")\n",
        "    else:\n",
        "        number = input(\"Enter phone number: \")\n",
        "        phonebook[name] = number\n",
        "        print(f\"{name} added to the phonebook.\")\n",
        "\n",
        "def search_contact(phonebook):\n",
        "    name = input(\"Enter contact name to search: \")\n",
        "    if name in phonebook:\n",
        "        print(f\"{name} -> {phonebook[name]}\")\n",
        "    else:\n",
        "        print(f\"{name} not found in the phonebook.\")\n",
        "\n",
        "def delete_contact(phonebook):\n",
        "    name = input(\"Enter contact name to delete: \")\n",
        "    if name in phonebook:\n",
        "        del phonebook[name]\n",
        "        print(f\"{name} deleted from the phonebook.\")\n",
        "    else:\n",
        "        print(f\"{name} not found in the phonebook.\")\n",
        "\n",
        "def display_contacts(phonebook):\n",
        "    if not phonebook:\n",
        "        print(\"Phonebook is empty.\")\n",
        "    else:\n",
        "        print(\"\\nContacts:\")\n",
        "        for name, number in phonebook.items():\n",
        "            print(f\"{name} -> {number}\")\n",
        "\n",
        "def main():\n",
        "    phonebook = {}\n",
        "\n",
        "    while True:\n",
        "        print(\"\\n___Phonebook Menu___\")\n",
        "        print(\"1. Add Contact\")\n",
        "        print(\"2. Search Contact\")\n",
        "        print(\"3. Delete Contact\")\n",
        "        print(\"4. Display Contact\")\n",
        "        print(\"5. Exit\")\n",
        "\n",
        "        choice = input(\"Enter your choice (1-5): \")\n",
        "\n",
        "        if choice == '1':\n",
        "            add_contact(phonebook)\n",
        "        elif choice == '2':\n",
        "            search_contact(phonebook)\n",
        "        elif choice == '3':\n",
        "            delete_contact(phonebook)\n",
        "        elif choice == '4':\n",
        "            display_contacts(phonebook)\n",
        "        elif choice == '5':\n",
        "            print(\"Exiting Phonebook, Byee________\")\n",
        "            break\n",
        "        else:\n",
        "            print(\"Invalid choice. Please select from 1 to 5.\")\n",
        "\n",
        "if __name__ == \"__main__\":\n",
        "    main()\n"
      ]
    },
    {
      "cell_type": "code",
      "source": [
        "print(\"02_pop_up_shop\")\n",
        "def calculate_total_cost():\n",
        "    fruits_price = {\n",
        "        \"apple\": 150.0,\n",
        "        \"mango\": 200,\n",
        "        \"kiwi\": 70,\n",
        "        \"banana\": 50,\n",
        "        \"orange\": 120\n",
        "    }\n",
        "\n",
        "    total_cost = 0\n",
        "\n",
        "    print(\"Welcome to the Fruit Shop!\\n\")\n",
        "\n",
        "    for fruit, price in fruits_price.items():\n",
        "        while True:\n",
        "            try:\n",
        "                quantity = int(input(f\"How many {fruit}s do you want? \"))\n",
        "                if quantity < 0:\n",
        "                    print(\"Invalid input. Please enter a non-negative number.\")\n",
        "                    continue\n",
        "                total_cost += price * quantity\n",
        "                break\n",
        "            except ValueError:\n",
        "                print(\"Invalid input. Please enter a valid number.\")\n",
        "\n",
        "    print(\"\\nCalculating total cost...\")\n",
        "    print(f\"✅ Your total cost is ₹{total_cost:.2f}\")\n",
        "    print(\"Thank you for shopping with us! 🛒\")\n",
        "\n",
        "if __name__ == \"__main__\":\n",
        "    calculate_total_cost()\n"
      ],
      "metadata": {
        "colab": {
          "base_uri": "https://localhost:8080/"
        },
        "id": "aJezYLDXLYBv",
        "outputId": "7d974079-7d3a-4320-a5ab-3308c9e73ad6"
      },
      "execution_count": 2,
      "outputs": [
        {
          "output_type": "stream",
          "name": "stdout",
          "text": [
            "02_pop_up_shop\n",
            "Welcome to the Fruit Shop!\n",
            "\n",
            "How many apples do you want? 2\n",
            "How many mangos do you want? 5\n",
            "How many kiwis do you want? 3\n",
            "How many bananas do you want? 4\n",
            "How many oranges do you want? 6\n",
            "\n",
            "Calculating total cost...\n",
            "✅ Your total cost is ₹2430.00\n",
            "Thank you for shopping with us! 🛒\n"
          ]
        }
      ]
    },
    {
      "cell_type": "code",
      "source": [
        "print(\"03_powerful_passwords\")\n",
        "import hashlib\n",
        "\n",
        "def hash_password(password):\n",
        "    return hashlib.sha256(password.encode()).hexdigest()\n",
        "\n",
        "stored_login = {\n",
        "    \"user@gmail.com\": hash_password(\"password123\"),\n",
        "    \"admin@gmail.com\": hash_password(\"adminpass\")\n",
        "}\n",
        "\n",
        "def login(email, password):\n",
        "    if email in stored_login:\n",
        "        return stored_login[email] == hash_password(password)\n",
        "    return False\n",
        "\n",
        "if __name__ == \"__main__\":\n",
        "    email = input(\"Enter your email: \")\n",
        "    password = input(\"Enter your password: \")\n",
        "\n",
        "    if login(email, password):\n",
        "        print(\"Login successful!\")\n",
        "    else:\n",
        "        print(\"Invalid email or password.\")"
      ],
      "metadata": {
        "colab": {
          "base_uri": "https://localhost:8080/"
        },
        "id": "cKLCIGHsN4FG",
        "outputId": "feac13dc-d2fb-4154-eaca-7d97337bb0c8"
      },
      "execution_count": 4,
      "outputs": [
        {
          "output_type": "stream",
          "name": "stdout",
          "text": [
            "03_powerful_passwords\n",
            "Enter your email: user@gmail.com\n",
            "Enter your password: password123\n",
            "Login successful!\n"
          ]
        }
      ]
    }
  ],
  "metadata": {
    "colab": {
      "provenance": [],
      "authorship_tag": "ABX9TyN0Gs2OsTpilomvfCSJLenV",
      "include_colab_link": true
    },
    "kernelspec": {
      "display_name": "Python 3",
      "name": "python3"
    },
    "language_info": {
      "name": "python"
    }
  },
  "nbformat": 4,
  "nbformat_minor": 0
}