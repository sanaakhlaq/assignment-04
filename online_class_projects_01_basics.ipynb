{
  "nbformat": 4,
  "nbformat_minor": 0,
  "metadata": {
    "colab": {
      "provenance": [],
      "authorship_tag": "ABX9TyM4eC/h4PfATkGdJV1YOfS0",
      "include_colab_link": true
    },
    "kernelspec": {
      "name": "python3",
      "display_name": "Python 3"
    },
    "language_info": {
      "name": "python"
    }
  },
  "cells": [
    {
      "cell_type": "markdown",
      "metadata": {
        "id": "view-in-github",
        "colab_type": "text"
      },
      "source": [
        "<a href=\"https://colab.research.google.com/github/sanaakhlaq/assignment-04/blob/main/online_class_projects_01_basics.ipynb\" target=\"_parent\"><img src=\"https://colab.research.google.com/assets/colab-badge.svg\" alt=\"Open In Colab\"/></a>"
      ]
    },
    {
      "cell_type": "code",
      "execution_count": 1,
      "metadata": {
        "colab": {
          "base_uri": "https://localhost:8080/"
        },
        "id": "MLoz7yS6eFb6",
        "outputId": "9e2ad8db-4df6-4031-d0dd-297693a38242"
      },
      "outputs": [
        {
          "output_type": "stream",
          "name": "stdout",
          "text": [
            "00_joke_bot\n",
            "Why do Python programmers wear glasses?\n",
            "Press Enter to find out...\n",
            "Because they can't C!\n"
          ]
        }
      ],
      "source": [
        "print(\"00_joke_bot\")\n",
        "# Funny Python joke in code 😂\n",
        "\n",
        "def tell_joke():\n",
        "    print(\"Why do Python programmers wear glasses?\")\n",
        "    input(\"Press Enter to find out...\")  # Wait for user to continue\n",
        "    print(\"Because they can't C!\")  # 🤓\n",
        "\n",
        "tell_joke()\n"
      ]
    },
    {
      "cell_type": "code",
      "source": [
        "print(\"01_double_it\")\n",
        "def main():\n",
        "  user_value = int(input(\"Enter a number: \"))\n",
        "  while user_value < 100:\n",
        "    user_value = user_value * 2\n",
        "    print(user_value)\n",
        "\n",
        "if __name__ == \"__main__\":\n",
        "  main()"
      ],
      "metadata": {
        "colab": {
          "base_uri": "https://localhost:8080/"
        },
        "id": "QOhe8O1Le-tP",
        "outputId": "2497b298-d6a9-4fe9-e9c4-5879657e9d36"
      },
      "execution_count": 2,
      "outputs": [
        {
          "output_type": "stream",
          "name": "stdout",
          "text": [
            "01_double_it\n",
            "Enter a number: 4\n",
            "8\n",
            "16\n",
            "32\n",
            "64\n",
            "128\n"
          ]
        }
      ]
    },
    {
      "cell_type": "code",
      "source": [
        "print(\"02_liftoff\")\n",
        "def main():\n",
        "  for i in range(10,0,-1):\n",
        "    print(i,end = \" \")\n",
        "  print(\"liftoff🚀\")\n",
        "\n",
        "if __name__ == \"__main__\":\n",
        "  main()\n"
      ],
      "metadata": {
        "colab": {
          "base_uri": "https://localhost:8080/"
        },
        "id": "3E-9kGZmfUSI",
        "outputId": "70503d90-0406-4f82-9311-36b77fcd80c7"
      },
      "execution_count": 3,
      "outputs": [
        {
          "output_type": "stream",
          "name": "stdout",
          "text": [
            "02_liftoff\n",
            "10 9 8 7 6 5 4 3 2 1 liftoff🚀\n"
          ]
        }
      ]
    },
    {
      "cell_type": "code",
      "source": [
        "print(\"03_guess_my_number\")\n",
        "import random\n",
        "\n",
        "def guess_my_number():\n",
        "    secret_number = random.randint(1, 10)\n",
        "    print(\"🎯 I'm thinking of a number between 1 and 10.\")\n",
        "\n",
        "    while True:\n",
        "        try:\n",
        "            guess = int(input(\"🤔 Take a guess: \"))\n",
        "            if guess == secret_number:\n",
        "                print(\"🎉 Correct! You guessed it!\")\n",
        "                break\n",
        "            elif guess < secret_number:\n",
        "                print(\"🔼 Too low. Try again.\")\n",
        "            else:\n",
        "                print(\"🔽 Too high. Try again.\")\n",
        "        except ValueError:\n",
        "            print(\"❌ Please enter a valid number.\")\n",
        "\n",
        "guess_my_number()\n"
      ],
      "metadata": {
        "colab": {
          "base_uri": "https://localhost:8080/"
        },
        "id": "J7PyvXk2fjqv",
        "outputId": "08d31b8a-02c5-4e63-95ed-d3751649a5d9"
      },
      "execution_count": 5,
      "outputs": [
        {
          "output_type": "stream",
          "name": "stdout",
          "text": [
            "03_guess_my_number\n",
            "🎯 I'm thinking of a number between 1 and 10.\n",
            "🤔 Take a guess: 2\n",
            "🔼 Too low. Try again.\n",
            "🤔 Take a guess: 3\n",
            "🔼 Too low. Try again.\n",
            "🤔 Take a guess: 4\n",
            "🎉 Correct! You guessed it!\n"
          ]
        }
      ]
    },
    {
      "cell_type": "code",
      "source": [
        "print(\"04_random_numbers\")\n",
        "def main():\n",
        "    for _ in range(10):\n",
        "        print(random.randint(1,100), end=\" \")\n",
        "\n",
        "if __name__ == \"__main__\":\n",
        "    main()\n",
        ""
      ],
      "metadata": {
        "colab": {
          "base_uri": "https://localhost:8080/"
        },
        "id": "wZCXoOxNmqHx",
        "outputId": "ee8122ba-06b3-442c-8bc0-219ad8a7d068"
      },
      "execution_count": 6,
      "outputs": [
        {
          "output_type": "stream",
          "name": "stdout",
          "text": [
            "04_random_numbers\n",
            "73 57 15 30 32 11 94 100 19 88 "
          ]
        }
      ]
    }
  ]
}