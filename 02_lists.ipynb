{
  "nbformat": 4,
  "nbformat_minor": 0,
  "metadata": {
    "colab": {
      "provenance": [],
      "authorship_tag": "ABX9TyOxDdS0eFy1e0VVuuu97fn4",
      "include_colab_link": true
    },
    "kernelspec": {
      "name": "python3",
      "display_name": "Python 3"
    },
    "language_info": {
      "name": "python"
    }
  },
  "cells": [
    {
      "cell_type": "markdown",
      "metadata": {
        "id": "view-in-github",
        "colab_type": "text"
      },
      "source": [
        "<a href=\"https://colab.research.google.com/github/sanaakhlaq/assignment-04/blob/main/02_lists.ipynb\" target=\"_parent\"><img src=\"https://colab.research.google.com/assets/colab-badge.svg\" alt=\"Open In Colab\"/></a>"
      ]
    },
    {
      "cell_type": "code",
      "execution_count": null,
      "metadata": {
        "colab": {
          "base_uri": "https://localhost:8080/"
        },
        "id": "3aQEaNiWjPOE",
        "outputId": "4590ad60-5de1-4169-d3d9-9ff50b5a5f43"
      },
      "outputs": [
        {
          "output_type": "stream",
          "name": "stdout",
          "text": [
            "add-many-numbers\n",
            "Sum of numbers: 15\n"
          ]
        }
      ],
      "source": [
        "print(\"01-add-many-numbers\")\n",
        "def add_numbers(numbers) -> int:\n",
        "    num = 0\n",
        "    for i in numbers:  # Fix the loop to iterate over 'numbers'\n",
        "        num += i\n",
        "    return num\n",
        "\n",
        "def result():\n",
        "    numbers = [1, 2, 3, 4, 5]\n",
        "    sum = add_numbers(numbers)\n",
        "    print(f\"Sum of numbers: {sum}\")\n",
        "\n",
        "result()  # Correctly calling the function once"
      ]
    },
    {
      "cell_type": "code",
      "source": [
        "print(\"02-doubles-lists\")\n",
        "def main():\n",
        "    numbers: list[int] = [1, 2, 3, 4, 5]\n",
        "    for i in range(len(numbers)):\n",
        "        index = numbers[i]\n",
        "        numbers[i] = index * 2\n",
        "        print(f\"Updated number at index {i}: {numbers[i]}\")\n",
        "\n",
        "if __name__ == \"__main__\":\n",
        "    main()"
      ],
      "metadata": {
        "colab": {
          "base_uri": "https://localhost:8080/"
        },
        "id": "GusFcEC7kNd_",
        "outputId": "c9f073de-99fd-46bc-d258-9724855ac42b"
      },
      "execution_count": null,
      "outputs": [
        {
          "output_type": "stream",
          "name": "stdout",
          "text": [
            "doubles-lists\n",
            "Updated number at index 0: 2\n",
            "Updated number at index 1: 4\n",
            "Updated number at index 2: 6\n",
            "Updated number at index 3: 8\n",
            "Updated number at index 4: 10\n"
          ]
        }
      ]
    },
    {
      "cell_type": "code",
      "source": [
        "print(\"04-following-with-data-structtures\")\n",
        "def add_two_copy(my_list,data):\n",
        "    for i in range(3):\n",
        "        my_list.append(data)\n",
        "\n",
        "def main():\n",
        "    message = input(\"Enter a message to copy: \")\n",
        "    my_list = []\n",
        "    print(\"List before:\", my_list)\n",
        "    add_two_copy(my_list, message)\n",
        "    print(\"List after:\", my_list)\n",
        "\n",
        "if __name__ == \"__main__\":\n",
        "    main()"
      ],
      "metadata": {
        "colab": {
          "base_uri": "https://localhost:8080/"
        },
        "id": "UNpgUGDwlBea",
        "outputId": "4af8a097-cf92-45d3-8a16-d32111271764"
      },
      "execution_count": null,
      "outputs": [
        {
          "output_type": "stream",
          "name": "stdout",
          "text": [
            "following-with-data-structtures\n",
            "Enter a message to copy: hello developer\n",
            "List before: []\n",
            "List after: ['hello developer', 'hello developer', 'hello developer']\n"
          ]
        }
      ]
    },
    {
      "cell_type": "code",
      "source": [
        "print(\"get-first-element\")\n",
        "def get_first_element(lst):\n",
        "    print(lst[0])\n",
        "\n",
        "def get_lst():\n",
        "    lst = []\n",
        "    element:str = input(\"Enter the element to add the list: \")\n",
        "    while element != \"\":\n",
        "        lst.append(element)\n",
        "        return lst\n",
        "\n",
        "def main():\n",
        "    lst = get_lst()\n",
        "    get_first_element(lst)\n",
        "\n",
        "if __name__ == \"__main__\":\n",
        "    main()"
      ],
      "metadata": {
        "colab": {
          "base_uri": "https://localhost:8080/"
        },
        "id": "9hdswo6ZmA_C",
        "outputId": "e8b188c6-ecc3-441c-9572-121c6b6e5978"
      },
      "execution_count": null,
      "outputs": [
        {
          "output_type": "stream",
          "name": "stdout",
          "text": [
            "get-first-element\n",
            "Enter the element to add the list: 4\n",
            "4\n"
          ]
        }
      ]
    },
    {
      "cell_type": "code",
      "source": [
        "print(\"06-get-last-element\")\n",
        "def get_last_element(lst):\n",
        "    print(lst[-1])\n",
        "\n",
        "def main():\n",
        "    lst:list = [1,2,3,4,5]\n",
        "    get_last_element(lst)\n",
        "\n",
        "if __name__ == \"__main__\":\n",
        "    main()"
      ],
      "metadata": {
        "colab": {
          "base_uri": "https://localhost:8080/"
        },
        "id": "Ij5uRH3snQtF",
        "outputId": "2cfe3584-b301-40d1-defe-94c88445626b"
      },
      "execution_count": null,
      "outputs": [
        {
          "output_type": "stream",
          "name": "stdout",
          "text": [
            "06-get-last-element\n",
            "5\n"
          ]
        }
      ]
    },
    {
      "cell_type": "code",
      "source": [
        "print(\"07-get-list\")\n",
        "def main():\n",
        "    lst = []\n",
        "    val = input(\"Enter a value to add to the list (leave empty to stop): \")\n",
        "    while val:  # loop until empty input\n",
        "        lst.append(val)\n",
        "        val = input(\"Enter a value to add to the list (leave empty to stop): \")\n",
        "    print(\"The list is:\", lst)\n",
        "\n",
        "if __name__ == \"__main__\":\n",
        "    main()"
      ],
      "metadata": {
        "colab": {
          "base_uri": "https://localhost:8080/"
        },
        "id": "bTa8tSzqn3B6",
        "outputId": "071b1704-3802-455e-9595-9d81068e292c"
      },
      "execution_count": null,
      "outputs": [
        {
          "output_type": "stream",
          "name": "stdout",
          "text": [
            "07-get-list\n",
            "Enter a value to add to the list (leave empty to stop): sana\n",
            "Enter a value to add to the list (leave empty to stop): saima\n",
            "Enter a value to add to the list (leave empty to stop): areeba\n",
            "Enter a value to add to the list (leave empty to stop): warisha\n",
            "Enter a value to add to the list (leave empty to stop): anosha\n",
            "Enter a value to add to the list (leave empty to stop): \n",
            "The list is: ['sana', 'saima', 'areeba', 'warisha', 'anosha']\n"
          ]
        }
      ]
    },
    {
      "cell_type": "code",
      "source": [
        "print(\"08-shorten\")\n",
        "MAX_LENGTH:int = 3\n",
        "def shorten(lst):\n",
        "    while len(lst) > MAX_LENGTH:\n",
        "        last_element = lst.pop()\n",
        "        print(last_element)\n",
        "\n",
        "def get_lst():\n",
        "    lst = []\n",
        "    elemnet = input(\"Enter a elemnt to add to the list: \")\n",
        "    while elemnet != \"\":\n",
        "        lst.append(elemnet)\n",
        "        elemnet = input(\"Enter a elemnt to add to the list: \")\n",
        "    return lst\n",
        "\n",
        "def main():\n",
        "    lst = get_lst()\n",
        "    shorten(lst)\n",
        "\n",
        "if __name__ == \"__main__\":\n",
        "    main()"
      ],
      "metadata": {
        "colab": {
          "base_uri": "https://localhost:8080/"
        },
        "id": "YQ10GrtupKKj",
        "outputId": "48e56533-1b7e-4436-8faf-6df0e2e43be7"
      },
      "execution_count": null,
      "outputs": [
        {
          "output_type": "stream",
          "name": "stdout",
          "text": [
            "08-shorten\n",
            "Enter a elemnt to add to the list: p\n",
            "Enter a elemnt to add to the list: r\n",
            "Enter a elemnt to add to the list: i\n",
            "Enter a elemnt to add to the list: n\n",
            "Enter a elemnt to add to the list: t\n",
            "Enter a elemnt to add to the list: \n",
            "t\n",
            "n\n"
          ]
        }
      ]
    }
  ]
}