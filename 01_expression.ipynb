{
  "nbformat": 4,
  "nbformat_minor": 0,
  "metadata": {
    "colab": {
      "provenance": [],
      "authorship_tag": "ABX9TyPlMo/UBet4rme5k3jTKHuq",
      "include_colab_link": true
    },
    "kernelspec": {
      "name": "python3",
      "display_name": "Python 3"
    },
    "language_info": {
      "name": "python"
    }
  },
  "cells": [
    {
      "cell_type": "markdown",
      "metadata": {
        "id": "view-in-github",
        "colab_type": "text"
      },
      "source": [
        "<a href=\"https://colab.research.google.com/github/sanaakhlaq/assignment-04/blob/main/01_expression.ipynb\" target=\"_parent\"><img src=\"https://colab.research.google.com/assets/colab-badge.svg\" alt=\"Open In Colab\"/></a>"
      ]
    },
    {
      "cell_type": "code",
      "execution_count": null,
      "metadata": {
        "colab": {
          "base_uri": "https://localhost:8080/"
        },
        "id": "LPiszBxzQjgb",
        "outputId": "7e2b2fb5-97c9-46f8-fc17-b68ca84978e6"
      },
      "outputs": [
        {
          "output_type": "stream",
          "name": "stdout",
          "text": [
            "01-dicesimulator.md\n",
            "diel in main() start as: 10\n",
            "Total of two dice is 5\n",
            "Total of two dice is 7\n",
            "Total of two dice is 9\n",
            "diel in main() is: 10\n"
          ]
        }
      ],
      "source": [
        "import random\n",
        "print(\"01-dicesimulator\")\n",
        "def roll_dice():\n",
        "    die1:int = random.randint(1,6)\n",
        "    die2:int = random.randint(1,6)\n",
        "    total:int = die1 + die2\n",
        "    print(f\"Total of two dice is {total}\")\n",
        "\n",
        "def main():\n",
        "    die1:int = 10\n",
        "    print(\"diel in main() start as: \" + str(die1))\n",
        "    roll_dice()\n",
        "    roll_dice()\n",
        "    roll_dice()\n",
        "    print(\"diel in main() is: \" + str(die1))\n",
        "\n",
        "if __name__ == \"__main__\":\n",
        "    main()\n"
      ]
    },
    {
      "cell_type": "code",
      "source": [
        "print(\"02-e=mc2\")\n",
        "def energy():\n",
        "    c:float = 299792458\n",
        "    m:float = float(input(\"Enter kilos of mass: \"))\n",
        "    print(\"m*c2\")\n",
        "    print(\"Mass = \" + str(m) + \"kg\")\n",
        "    print(\"C = \" + str(c) + \"kg\")\n",
        "    print(\"e = \" + str(m * c ** 2) + \"jules\")\n",
        "\n",
        "if __name__ == \"__main__\":\n",
        "    energy()"
      ],
      "metadata": {
        "colab": {
          "base_uri": "https://localhost:8080/"
        },
        "id": "NSR_2co9Qpnb",
        "outputId": "e71b7798-5439-4fbe-e18e-27c2cf0bd98d"
      },
      "execution_count": null,
      "outputs": [
        {
          "output_type": "stream",
          "name": "stdout",
          "text": [
            "02-e=c2.md\n",
            "Enter kilos of mass: 130\n",
            "m*c2\n",
            "Mass = 130.0kg\n",
            "C = 299792458kg\n",
            "e = 1.1683817323578628e+19jules\n"
          ]
        }
      ]
    },
    {
      "cell_type": "code",
      "source": [
        "print(\"03-feet-into-inches\")\n",
        "inch:int = 12\n",
        "\n",
        "def foot():\n",
        "    feet:int = int(input(\"Enter feet and i will convert into inches: \"))\n",
        "    print(f\"There are {inch * feet} inches in {feet} feet\")\n",
        "\n",
        "if __name__ == \"__main__\":\n",
        "    foot()"
      ],
      "metadata": {
        "colab": {
          "base_uri": "https://localhost:8080/"
        },
        "id": "83fMtaDTY0eZ",
        "outputId": "41e028f7-c299-4fb2-eebb-ace00e8ab636"
      },
      "execution_count": null,
      "outputs": [
        {
          "output_type": "stream",
          "name": "stdout",
          "text": [
            "03-\n",
            "Enter feet and i will convert into inches: 5\n",
            "There are 60 inches in 5 feet\n"
          ]
        }
      ]
    },
    {
      "cell_type": "code",
      "source": [
        "print(\"04-pythagorean-theorem\")\n",
        "import math\n",
        "\n",
        "def triangle():\n",
        "    ab:float = float(input(\"Eneter the length of side ac: \"))\n",
        "    ac:float = float(input(\"Enter the length of the side ac: \"))\n",
        "    bc:float = math.sqrt(ab**2 + ac**2)\n",
        "    print(f\"The length of bc (the hypothenuss is : {bc})\")\n",
        "\n",
        "if __name__ == \"__main__\":\n",
        "    triangle()"
      ],
      "metadata": {
        "colab": {
          "base_uri": "https://localhost:8080/"
        },
        "id": "DjaxCglpZUK6",
        "outputId": "8e6de2a7-7c44-49a3-f43e-fa9d00c046d5"
      },
      "execution_count": null,
      "outputs": [
        {
          "output_type": "stream",
          "name": "stdout",
          "text": [
            "04-pythagorean-theorem.ipy\n",
            "Eneter the length of side ac: 4.9\n",
            "Enter the length of the side ac: 5.8\n",
            "The length of bc (the hypothenuss is : 7.592759709091287)\n"
          ]
        }
      ]
    },
    {
      "cell_type": "code",
      "source": [
        "print(\"05-remainder-division\")\n",
        "def reminder():\n",
        "    num1:int = int(input(\"Enter an interger to be divided: \"))\n",
        "    num2:int = int(input(\"Enter an interger to divided by: \"))\n",
        "    quotient:int = num1//num2\n",
        "    reminder:int = num1%num2\n",
        "    print(f\"The result of following divison is {quotient} with the reminder of {reminder}\")\n",
        "\n",
        "if __name__ == \"__main__\":\n",
        "    reminder()"
      ],
      "metadata": {
        "colab": {
          "base_uri": "https://localhost:8080/"
        },
        "id": "UsnFpomebEoD",
        "outputId": "994dd1e1-95e8-4484-c02b-5405dd29fc6c"
      },
      "execution_count": null,
      "outputs": [
        {
          "output_type": "stream",
          "name": "stdout",
          "text": [
            "05-remainder-division\n",
            "Enter an interger to be divided: 49\n",
            "Enter an interger to divided by: 7\n",
            "The result of following divison is 7 with the reminder of 0\n"
          ]
        }
      ]
    },
    {
      "cell_type": "code",
      "source": [
        "import random\n",
        "print(\"06-rooldice\")\n",
        "\n",
        "\n",
        "def dice():\n",
        "    die1:int = random.randint(1,6)\n",
        "    die2:int = random.randint(1,6)\n",
        "    total:int = die1 + die2\n",
        "    print(\"First die: \"+ str(die1))\n",
        "    print(\"Second die: \"+ str(die2))\n",
        "    print(f\"total of two dice is {total}\")\n",
        "\n",
        "if __name__ == \"__main__\":\n",
        "    dice()"
      ],
      "metadata": {
        "colab": {
          "base_uri": "https://localhost:8080/"
        },
        "id": "atASl7RdcnYR",
        "outputId": "c1c08182-56c9-4023-cd93-9541906fb992"
      },
      "execution_count": null,
      "outputs": [
        {
          "output_type": "stream",
          "name": "stdout",
          "text": [
            "06-rooldice\n",
            "First die: 2\n",
            "Second die: 3\n",
            "total of two dice is 5\n"
          ]
        }
      ]
    },
    {
      "cell_type": "code",
      "source": [
        "print(\"06-seconds-in-year\")\n",
        "day_in_year:int = 365\n",
        "hour_per_day:int = 24\n",
        "mint_per_hour:int = 60\n",
        "sec_per_mint:int = 60\n",
        "\n",
        "def second_in_year():\n",
        "    print(f\"There are {day_in_year * hour_per_day * mint_per_hour * sec_per_mint} in a year\")\n",
        "\n",
        "if __name__ == \"__main__\":\n",
        "    second_in_year()"
      ],
      "metadata": {
        "colab": {
          "base_uri": "https://localhost:8080/"
        },
        "id": "A5vcUtwedvIS",
        "outputId": "401e63e0-6e2c-4513-d5d8-4d59e9d7a863"
      },
      "execution_count": null,
      "outputs": [
        {
          "output_type": "stream",
          "name": "stdout",
          "text": [
            "06-seconds-in-year\n",
            "There are 31536000 in a year\n"
          ]
        }
      ]
    },
    {
      "cell_type": "code",
      "source": [
        "print(\"07-tiny-mad\")\n",
        "def tiny_madlib():\n",
        "    noun:str = str(input(\"Enter an noun: \"))\n",
        "    adjective:str = str(input(\"Enter an adjective: \"))\n",
        "    verb:str = str(input(\"Enter a verb: \"))\n",
        "    print(f\"Do you {verb} your {adjective} {noun} ?\")\n",
        "\n",
        "if __name__ == \"__main__\":\n",
        "    tiny_madlib()"
      ],
      "metadata": {
        "colab": {
          "base_uri": "https://localhost:8080/"
        },
        "id": "zD5DyD_weG4a",
        "outputId": "934dee04-959a-488f-dc9b-6801bf2ac6d6"
      },
      "execution_count": null,
      "outputs": [
        {
          "output_type": "stream",
          "name": "stdout",
          "text": [
            "07-tiny-mad\n",
            "Enter an noun: parrot\n",
            "Enter an adjective: fly\n",
            "Enter a verb: eat\n",
            "Do you eat your fly parrot ?\n"
          ]
        }
      ]
    }
  ]
}