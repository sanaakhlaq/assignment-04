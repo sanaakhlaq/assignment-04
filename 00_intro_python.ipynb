{
  "nbformat": 4,
  "nbformat_minor": 0,
  "metadata": {
    "colab": {
      "provenance": [],
      "authorship_tag": "ABX9TyP6Gj4NJE5lSRQ33R4osJv4",
      "include_colab_link": true
    },
    "kernelspec": {
      "name": "python3",
      "display_name": "Python 3"
    },
    "language_info": {
      "name": "python"
    }
  },
  "cells": [
    {
      "cell_type": "markdown",
      "metadata": {
        "id": "view-in-github",
        "colab_type": "text"
      },
      "source": [
        "<a href=\"https://colab.research.google.com/github/sanaakhlaq/assignment-04/blob/main/00_intro_python.ipynb\" target=\"_parent\"><img src=\"https://colab.research.google.com/assets/colab-badge.svg\" alt=\"Open In Colab\"/></a>"
      ]
    },
    {
      "cell_type": "code",
      "execution_count": null,
      "metadata": {
        "id": "__EiuoVPmBgw",
        "colab": {
          "base_uri": "https://localhost:8080/"
        },
        "outputId": "9466479d-1a24-4002-d612-627aa5ce0cf7"
      },
      "outputs": [
        {
          "output_type": "stream",
          "name": "stdout",
          "text": [
            "01_add_two_numbers\n",
            "This application adds two numbers.\n",
            "Enter your first number: 10\n",
            "Enter your second number: 5\n",
            "The total sum of 10 and 5 is: 15\n"
          ]
        }
      ],
      "source": [
        "print(\"01_add_two_numbers\")\n",
        "\n",
        "def add():\n",
        "    print(\"This application adds two numbers.\")\n",
        "\n",
        "    first_number = int(input(\"Enter your first number: \"))\n",
        "    second_number = int(input(\"Enter your second number: \"))\n",
        "\n",
        "    total = first_number + second_number\n",
        "\n",
        "    print(f\"The total sum of {first_number} and {second_number} is: {total}\")\n",
        "\n",
        "if __name__ == \"__main__\":\n",
        "    add()\n"
      ]
    },
    {
      "cell_type": "code",
      "source": [
        "print(\"03_Fahrenheit_to_celsius\")\n",
        "\n",
        "def tem():\n",
        "    print(\"This code is for converting Fahrenheit to Celsius\")\n",
        "    fahrenheit_degree = float(input(\"Enter your Fahrenheit degree: \"))\n",
        "    celsius_degree = (fahrenheit_degree - 32) * 5.0 / 9.0\n",
        "    print(f\"Temperature {fahrenheit_degree}°F = {celsius_degree:.2f}°C\")\n",
        "\n",
        "if __name__ == \"__main__\":\n",
        "    tem()\n"
      ],
      "metadata": {
        "id": "7u-otUpmYOL_",
        "colab": {
          "base_uri": "https://localhost:8080/"
        },
        "outputId": "c25eb3df-48fc-4c3f-daa5-f6b8976c48da"
      },
      "execution_count": null,
      "outputs": [
        {
          "output_type": "stream",
          "name": "stdout",
          "text": [
            "03_Fahrenheit_to_celsius\n",
            "This code is for converting Fahrenheit to Celsius\n",
            "Enter your Fahrenheit degree: 48\n",
            "Temperature 48.0°F = 8.89°C\n"
          ]
        }
      ]
    },
    {
      "cell_type": "code",
      "source": [
        "print(\"02_agreement_bot\")\n",
        "def favorite_animal():\n",
        "    animal = input(\"What's your favorite animal? \")\n",
        "    print(f\"My favorite animal is also {animal}!\")\n",
        "\n",
        "# Program run karega yahan se\n",
        "if __name__ == \"__main__\":\n",
        "    favorite_animal()\n"
      ],
      "metadata": {
        "colab": {
          "base_uri": "https://localhost:8080/"
        },
        "id": "BhBSs8dJrEfx",
        "outputId": "67a16e1e-9ad2-4af0-fce2-75fdc179d258"
      },
      "execution_count": null,
      "outputs": [
        {
          "output_type": "stream",
          "name": "stdout",
          "text": [
            "02_agreement_bot\n",
            "What's your favorite animal? cat\n",
            "My favorite animal is also cat!\n"
          ]
        }
      ]
    },
    {
      "cell_type": "code",
      "source": [
        "print(\"04 how_old_are_they\")\n",
        "def main():\n",
        "    anton : int = 21  # Anton's age is given as 21 years old\n",
        "    beth : int = 6 + anton  # Beth is 6 years older than Anton, so add 6 to Anton's age to get Beth's\n",
        "    chen : int = 20 + beth  # Chen is 20 years older than Beth, so add 20 to Beth's age to get Chen's\n",
        "    drew  : int= chen + anton  # Drew is as old as Chen's age plus Anton's age, so add them together\n",
        "    ethan : int = chen  # Ethan is the same age as Chen, so set Ethan's age equal to Chen's\n",
        "\n",
        "   # Print out all of the ages!\n",
        "    print(\"Anton is \" + str(anton))\n",
        "    print(\"Beth is \" + str(beth))\n",
        "    print(\"Chen is \" + str(chen))\n",
        "    print(\"Drew is \" + str(drew))\n",
        "    print(\"Ethan is \" + str(ethan))\n",
        "\n",
        "\n",
        "# There is no need to edit code beyond this point\n",
        "\n",
        "if __name__ == '__main__':\n",
        "    main()"
      ],
      "metadata": {
        "colab": {
          "base_uri": "https://localhost:8080/"
        },
        "id": "SW6ubtZOZp5d",
        "outputId": "f7e17f59-cd95-41f2-9031-655848144d4b"
      },
      "execution_count": null,
      "outputs": [
        {
          "output_type": "stream",
          "name": "stdout",
          "text": [
            "04 how_old_are_they\n",
            "Anton is 21\n",
            "Beth is 27\n",
            "Chen is 47\n",
            "Drew is 68\n",
            "Ethan is 47\n"
          ]
        }
      ]
    },
    {
      "cell_type": "code",
      "source": [
        "print(\"05 Triangle_perimeter\")\n",
        "def main():\n",
        "    # Get the 3 side lengths of the triangle\n",
        "    side1: float = float(input(\"What is the length of side 1? \"))\n",
        "    side2: float = float(input(\"What is the length of side 2? \"))\n",
        "    side3: float = float(input(\"What is the length of side 3? \"))\n",
        "\n",
        "    # Print out the perimeter (sum of the sides) of the triangle, make sure to cast it to a str when concatenating!\n",
        "    print(\"The perimeter of the triangle is \" + str(side1 + side2 + side3))\n",
        "\n",
        "\n",
        "\n",
        "\n",
        "if __name__ == '__main__':\n",
        "    main()"
      ],
      "metadata": {
        "colab": {
          "base_uri": "https://localhost:8080/"
        },
        "id": "5PjmyrgUcx-8",
        "outputId": "0e127d9e-4e7c-4568-88a2-eb3e5475d92e"
      },
      "execution_count": null,
      "outputs": [
        {
          "output_type": "stream",
          "name": "stdout",
          "text": [
            "05 Triangle_perimeter\n",
            "What is the length of side 1? 5.5\n",
            "What is the length of side 2? 4\n",
            "What is the length of side 3? 6\n",
            "The perimeter of the triangle is 15.5\n"
          ]
        }
      ]
    },
    {
      "cell_type": "code",
      "source": [
        "print(\"06 square_number\")\n",
        "\n",
        "def square():\n",
        "  print(\"This code is about square of giving number\")\n",
        "  num1:int = int(input(\"Enter any number and i will give you a square value. \"))\n",
        "  print(f\"The square of {num1} is {num1 ** 2}\")\n"
      ],
      "metadata": {
        "id": "XLWjh25qeobe",
        "outputId": "5d15bb30-365f-415b-e771-6b7b7e1cc28a",
        "colab": {
          "base_uri": "https://localhost:8080/"
        }
      },
      "execution_count": null,
      "outputs": [
        {
          "output_type": "stream",
          "name": "stdout",
          "text": [
            "06 square_number\n"
          ]
        }
      ]
    }
  ]
}